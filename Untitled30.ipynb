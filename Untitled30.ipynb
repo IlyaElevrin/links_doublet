{
  "nbformat": 4,
  "nbformat_minor": 0,
  "metadata": {
    "colab": {
      "provenance": []
    },
    "kernelspec": {
      "name": "python3",
      "display_name": "Python 3"
    },
    "language_info": {
      "name": "python"
    }
  },
  "cells": [
    {
      "cell_type": "code",
      "source": [
        "import pandas as pd\n",
        "import networkx as nx\n",
        "import matplotlib.pyplot as plt"
      ],
      "metadata": {
        "id": "LZ_d9xyW7Ylb"
      },
      "execution_count": 25,
      "outputs": []
    },
    {
      "cell_type": "code",
      "source": [
        "data = {\n",
        "    'from': [1, 2, 1, 2, 3, 2],\n",
        "    'to': [1, 1, 2, 2, 3, 3]\n",
        "}\n",
        "df = pd.DataFrame(data)"
      ],
      "metadata": {
        "id": "ii1FwUF57YbH"
      },
      "execution_count": 40,
      "outputs": []
    },
    {
      "cell_type": "code",
      "source": [
        "# Фильтрация связей\n",
        "self_edges = df[df['from'] == df['to']].drop_duplicates()  # Петли\n",
        "forward_edges = []\n",
        "seen_pairs = set()"
      ],
      "metadata": {
        "id": "s6dIeq2W7YY0"
      },
      "execution_count": 28,
      "outputs": []
    },
    {
      "cell_type": "code",
      "source": [
        "# Удаление обратных связей, встречающихся позже\n",
        "for _, row in df.iterrows():\n",
        "    if row['from'] == row['to']:\n",
        "        continue  # Уже обработали петли\n",
        "    pair = (row['from'], row['to'])\n",
        "    reverse_pair = (row['to'], row['from'])\n",
        "    if pair not in seen_pairs and reverse_pair not in seen_pairs:\n",
        "        forward_edges.append(pair)\n",
        "        seen_pairs.add(pair)"
      ],
      "metadata": {
        "id": "L925jPQA7YWs"
      },
      "execution_count": 29,
      "outputs": []
    },
    {
      "cell_type": "code",
      "source": [
        "# Создание графа\n",
        "G = nx.DiGraph()\n",
        "G.add_nodes_from(df['from'].unique())  # Добавление узлов"
      ],
      "metadata": {
        "id": "TKCwtfYE7YUX"
      },
      "execution_count": 30,
      "outputs": []
    },
    {
      "cell_type": "code",
      "source": [
        "# Добавление связей\n",
        "G.add_edges_from(forward_edges)\n",
        "G.add_edges_from([(k, k) for k in self_edges['from']])  # Петли"
      ],
      "metadata": {
        "id": "yOvVb5WsXd0Y"
      },
      "execution_count": 31,
      "outputs": []
    },
    {
      "cell_type": "code",
      "source": [
        "# Визуализация\n",
        "pos = nx.circular_layout(G)  # Расположение узлов по кругу\n",
        "plt.figure(figsize=(8, 8))"
      ],
      "metadata": {
        "colab": {
          "base_uri": "https://localhost:8080/",
          "height": 53
        },
        "id": "Ue-REX0TXdx_",
        "outputId": "4c004527-939a-4814-da29-f3b7b467ab2c"
      },
      "execution_count": 32,
      "outputs": [
        {
          "output_type": "execute_result",
          "data": {
            "text/plain": [
              "<Figure size 800x800 with 0 Axes>"
            ]
          },
          "metadata": {},
          "execution_count": 32
        },
        {
          "output_type": "display_data",
          "data": {
            "text/plain": [
              "<Figure size 800x800 with 0 Axes>"
            ]
          },
          "metadata": {}
        }
      ]
    },
    {
      "cell_type": "code",
      "source": [
        "# Рисуем узлы и связи\n",
        "nx.draw_networkx_nodes(G, pos, node_size=500, node_color='lightblue')\n",
        "nx.draw_networkx_labels(G, pos, font_size=12)"
      ],
      "metadata": {
        "colab": {
          "base_uri": "https://localhost:8080/",
          "height": 442
        },
        "id": "MTW5xiTNXdvf",
        "outputId": "6ea9e6c9-20b6-4352-a598-2fa9153f7193"
      },
      "execution_count": 33,
      "outputs": [
        {
          "output_type": "execute_result",
          "data": {
            "text/plain": [
              "{np.int64(1): Text(1.0, 4.371138828673793e-08, '1'),\n",
              " np.int64(2): Text(-1.0, -4.371138828673793e-08, '2')}"
            ]
          },
          "metadata": {},
          "execution_count": 33
        },
        {
          "output_type": "display_data",
          "data": {
            "text/plain": [
              "<Figure size 640x480 with 1 Axes>"
            ],
            "image/png": "[encoded data removed]"
          },
          "metadata": {}
        }
      ]
    },
    {
      "cell_type": "code",
      "source": [
        "# Рисуем направленные связи (кроме петель)\n",
        "nx.draw_networkx_edges(\n",
        "    G, pos, edgelist=forward_edges,\n",
        "    edge_color='black', arrowstyle='->', arrowsize=20\n",
        ")"
      ],
      "metadata": {
        "colab": {
          "base_uri": "https://localhost:8080/",
          "height": 424
        },
        "id": "zgq0BWP7XdtA",
        "outputId": "6946b38a-5f86-4201-d5e5-4893bab15b78"
      },
      "execution_count": 34,
      "outputs": [
        {
          "output_type": "execute_result",
          "data": {
            "text/plain": [
              "[<matplotlib.patches.FancyArrowPatch at 0x780ee87dbe10>]"
            ]
          },
          "metadata": {},
          "execution_count": 34
        },
        {
          "output_type": "display_data",
          "data": {
            "text/plain": [
              "<Figure size 640x480 with 1 Axes>"
            ],
            "image/png": "[encoded data removed]"
          },
          "metadata": {}
        }
      ]
    },
    {
      "cell_type": "code",
      "source": [
        "# Рисуем петли отдельно\n",
        "for node in G.nodes():\n",
        "    if G.has_edge(node, node):\n",
        "        nx.draw_networkx_edges(\n",
        "            G, pos, edgelist=[(node, node)],\n",
        "            connectionstyle=f\"arc3,rad=0.3\",  # Изгиб петли\n",
        "            edge_color='red', arrowstyle='->', arrowsize=20\n",
        "        )\n"
      ],
      "metadata": {
        "colab": {
          "base_uri": "https://localhost:8080/",
          "height": 406
        },
        "id": "v-8o_2IHXh0Q",
        "outputId": "ec96f531-0791-4012-eb33-ab11a84ae2b1"
      },
      "execution_count": 37,
      "outputs": [
        {
          "output_type": "display_data",
          "data": {
            "text/plain": [
              "<Figure size 640x480 with 1 Axes>"
            ],
            "image/png": "[encoded data removed]"
          },
          "metadata": {}
        }
      ]
    },
    {
      "cell_type": "code",
      "source": [
        "# Фильтрация связей\n",
        "self_edges = df[df['from'] == df['to']].drop_duplicates()  # Петли\n",
        "forward_edges = []\n",
        "seen_pairs = set()\n",
        "\n",
        "# Удаление обратных связей, встречающихся позже\n",
        "for _, row in df.iterrows():\n",
        "    if row['from'] == row['to']:\n",
        "        continue  # Уже обработали петли\n",
        "    pair = (row['from'], row['to'])\n",
        "    reverse_pair = (row['to'], row['from'])\n",
        "    if pair not in seen_pairs and reverse_pair not in seen_pairs:\n",
        "        forward_edges.append(pair)\n",
        "        seen_pairs.add(pair)\n",
        "\n",
        "# Создание графа\n",
        "G = nx.DiGraph()\n",
        "G.add_nodes_from(df['from'].unique())  # Добавление узлов\n",
        "\n",
        "# Добавление связей\n",
        "G.add_edges_from(forward_edges)\n",
        "G.add_edges_from([(k, k) for k in self_edges['from']])  # Петли\n",
        "\n",
        "# Визуализация\n",
        "pos = nx.circular_layout(G)  # Расположение узлов по кругу\n",
        "plt.figure(figsize=(8, 8))\n",
        "\n",
        "# Рисуем узлы и связи\n",
        "nx.draw_networkx_nodes(G, pos, node_size=500, node_color='lightblue')\n",
        "nx.draw_networkx_labels(G, pos, font_size=12)\n",
        "\n",
        "# Рисуем направленные связи (кроме петель)\n",
        "nx.draw_networkx_edges(\n",
        "    G, pos, edgelist=forward_edges,\n",
        "    edge_color='black', arrowstyle='->', arrowsize=20\n",
        ")\n",
        "\n",
        "# Рисуем петли отдельно\n",
        "for node in G.nodes():\n",
        "    if G.has_edge(node, node):\n",
        "        nx.draw_networkx_edges(\n",
        "            G, pos, edgelist=[(node, node)],\n",
        "            connectionstyle=f\"arc3,rad=0.3\",  # Изгиб петли\n",
        "            edge_color='red', arrowstyle='->', arrowsize=20\n",
        "        )\n",
        "\n",
        "plt.axis('off')\n",
        "plt.show()"
      ],
      "metadata": {
        "colab": {
          "base_uri": "https://localhost:8080/",
          "height": 653
        },
        "id": "bliu-Ze0Xhvx",
        "outputId": "6480f8b5-fc3f-452c-ec52-a797718d50cf"
      },
      "execution_count": 43,
      "outputs": [
        {
          "output_type": "display_data",
          "data": {
            "text/plain": [
              "<Figure size 800x800 with 1 Axes>"
            ],
            "image/png": "[encoded data removed]"
          },
          "metadata": {}
        }
      ]
    }
  ]
}